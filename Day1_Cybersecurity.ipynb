{
  "nbformat": 4,
  "nbformat_minor": 0,
  "metadata": {
    "colab": {
      "provenance": [],
      "authorship_tag": "ABX9TyMkWm+vZC5Oz6BUyn5ixahE",
      "include_colab_link": true
    },
    "kernelspec": {
      "name": "python3",
      "display_name": "Python 3"
    },
    "language_info": {
      "name": "python"
    }
  },
  "cells": [
    {
      "cell_type": "markdown",
      "metadata": {
        "id": "view-in-github",
        "colab_type": "text"
      },
      "source": [
        "<a href=\"https://colab.research.google.com/github/vishymails/cyber_security_AIML/blob/main/Day1_Cybersecurity.ipynb\" target=\"_parent\"><img src=\"https://colab.research.google.com/assets/colab-badge.svg\" alt=\"Open In Colab\"/></a>"
      ]
    },
    {
      "cell_type": "code",
      "execution_count": 1,
      "metadata": {
        "id": "OWq-BYmmvMBO"
      },
      "outputs": [],
      "source": [
        "# Analyzing Time Series Using Statsmodels"
      ]
    },
    {
      "cell_type": "code",
      "source": [
        "from random import random\n",
        "\n",
        "time_series = [2 * x + random() for x in range(1, 100)]"
      ],
      "metadata": {
        "id": "tKMhImYo9kNr"
      },
      "execution_count": 2,
      "outputs": []
    },
    {
      "cell_type": "code",
      "source": [
        "%matplotlib inline\n",
        "\n",
        "import matplotlib.pyplot as plt\n",
        "\n",
        "plt.plot(time_series)\n",
        "plt.show()"
      ],
      "metadata": {
        "colab": {
          "base_uri": "https://localhost:8080/",
          "height": 430
        },
        "id": "6b1ZGNlj95-c",
        "outputId": "8513e45d-4202-43f9-eca1-e2a960ff2375"
      },
      "execution_count": 4,
      "outputs": [
        {
          "output_type": "display_data",
          "data": {
            "text/plain": [
              "<Figure size 640x480 with 1 Axes>"
            ],
            "image/png": "[encoded data removed]"
          },
          "metadata": {}
        }
      ]
    },
    {
      "cell_type": "code",
      "source": [
        "from statsmodels.tsa.ar_model import AutoReg\n",
        "\n",
        "model = AutoReg(time_series , 2)\n",
        "model_fit = model.fit()\n",
        "\n",
        "y = model_fit.predict(len(time_series), len(time_series))\n",
        "\n",
        "print(y)"
      ],
      "metadata": {
        "colab": {
          "base_uri": "https://localhost:8080/"
        },
        "id": "zjJJUGoD-GSk",
        "outputId": "b300c0b6-51ab-47ee-8854-3a9f736f2158"
      },
      "execution_count": 7,
      "outputs": [
        {
          "output_type": "stream",
          "name": "stdout",
          "text": [
            "[200.2815657]\n"
          ]
        }
      ]
    },
    {
      "cell_type": "code",
      "source": [
        "model_fit.params"
      ],
      "metadata": {
        "colab": {
          "base_uri": "https://localhost:8080/"
        },
        "id": "kwv_NHFZ-juG",
        "outputId": "910b5037-fe99-4a2a-d768-97a279e97883"
      },
      "execution_count": 8,
      "outputs": [
        {
          "output_type": "execute_result",
          "data": {
            "text/plain": [
              "array([2.7503246 , 0.6198164 , 0.38019616])"
            ]
          },
          "metadata": {},
          "execution_count": 8
        }
      ]
    },
    {
      "cell_type": "code",
      "source": [
        "from statsmodels.tsa.arima.model import ARIMA\n",
        "\n",
        "model = ARIMA(time_series, order = (0, 1, 2))\n",
        "\n",
        "model_fit  = model.fit()\n",
        "\n",
        "y = model_fit.predict(len(time_series), len(time_series))\n",
        "\n",
        "print(y)"
      ],
      "metadata": {
        "colab": {
          "base_uri": "https://localhost:8080/"
        },
        "id": "XX1rKKcG-zwj",
        "outputId": "f82053f1-e8c1-459d-f343-6c2cd947fbd0"
      },
      "execution_count": 17,
      "outputs": [
        {
          "output_type": "stream",
          "name": "stdout",
          "text": [
            "[198.16737033]\n"
          ]
        }
      ]
    },
    {
      "cell_type": "code",
      "source": [
        "model_fit.params"
      ],
      "metadata": {
        "colab": {
          "base_uri": "https://localhost:8080/"
        },
        "id": "X2DX--2F_1QB",
        "outputId": "73304f0c-f8a1-4291-99d6-fff9417d226b"
      },
      "execution_count": 18,
      "outputs": [
        {
          "output_type": "execute_result",
          "data": {
            "text/plain": [
              "array([0.89715642, 0.57444483, 1.23680021])"
            ]
          },
          "metadata": {},
          "execution_count": 18
        }
      ]
    },
    {
      "cell_type": "code",
      "source": [
        "model_fit.summary()"
      ],
      "metadata": {
        "colab": {
          "base_uri": "https://localhost:8080/",
          "height": 430
        },
        "id": "4d-du988AuOh",
        "outputId": "ffe79124-f83e-4e80-cc34-a51ea0b0a430"
      },
      "execution_count": 19,
      "outputs": [
        {
          "output_type": "execute_result",
          "data": {
            "text/plain": [
              "<class 'statsmodels.iolib.summary.Summary'>\n",
              "\"\"\"\n",
              "                               SARIMAX Results                                \n",
              "==============================================================================\n",
              "Dep. Variable:                      y   No. Observations:                   99\n",
              "Model:                 ARIMA(0, 1, 2)   Log Likelihood                -150.067\n",
              "Date:                Mon, 15 Apr 2024   AIC                            306.134\n",
              "Time:                        09:09:54   BIC                            313.889\n",
              "Sample:                             0   HQIC                           309.271\n",
              "                                 - 99                                         \n",
              "Covariance Type:                  opg                                         \n",
              "==============================================================================\n",
              "                 coef    std err          z      P>|z|      [0.025      0.975]\n",
              "------------------------------------------------------------------------------\n",
              "ma.L1          0.8972      0.092      9.718      0.000       0.716       1.078\n",
              "ma.L2          0.5744      0.095      6.069      0.000       0.389       0.760\n",
              "sigma2         1.2368      0.210      5.881      0.000       0.825       1.649\n",
              "===================================================================================\n",
              "Ljung-Box (L1) (Q):                  33.54   Jarque-Bera (JB):                 0.56\n",
              "Prob(Q):                              0.00   Prob(JB):                         0.76\n",
              "Heteroskedasticity (H):               0.69   Skew:                             0.15\n",
              "Prob(H) (two-sided):                  0.30   Kurtosis:                         3.20\n",
              "===================================================================================\n",
              "\n",
              "Warnings:\n",
              "[1] Covariance matrix calculated using the outer product of gradients (complex-step).\n",
              "\"\"\""
            ],
            "text/html": [
              "<table class=\"simpletable\">\n",
              "<caption>SARIMAX Results</caption>\n",
              "<tr>\n",
              "  <th>Dep. Variable:</th>           <td>y</td>        <th>  No. Observations:  </th>    <td>99</td>   \n",
              "</tr>\n",
              "<tr>\n",
              "  <th>Model:</th>            <td>ARIMA(0, 1, 2)</td>  <th>  Log Likelihood     </th> <td>-150.067</td>\n",
              "</tr>\n",
              "<tr>\n",
              "  <th>Date:</th>            <td>Mon, 15 Apr 2024</td> <th>  AIC                </th>  <td>306.134</td>\n",
              "</tr>\n",
              "<tr>\n",
              "  <th>Time:</th>                <td>09:09:54</td>     <th>  BIC                </th>  <td>313.889</td>\n",
              "</tr>\n",
              "<tr>\n",
              "  <th>Sample:</th>                  <td>0</td>        <th>  HQIC               </th>  <td>309.271</td>\n",
              "</tr>\n",
              "<tr>\n",
              "  <th></th>                       <td> - 99</td>      <th>                     </th>     <td> </td>   \n",
              "</tr>\n",
              "<tr>\n",
              "  <th>Covariance Type:</th>        <td>opg</td>       <th>                     </th>     <td> </td>   \n",
              "</tr>\n",
              "</table>\n",
              "<table class=\"simpletable\">\n",
              "<tr>\n",
              "     <td></td>       <th>coef</th>     <th>std err</th>      <th>z</th>      <th>P>|z|</th>  <th>[0.025</th>    <th>0.975]</th>  \n",
              "</tr>\n",
              "<tr>\n",
              "  <th>ma.L1</th>  <td>    0.8972</td> <td>    0.092</td> <td>    9.718</td> <td> 0.000</td> <td>    0.716</td> <td>    1.078</td>\n",
              "</tr>\n",
              "<tr>\n",
              "  <th>ma.L2</th>  <td>    0.5744</td> <td>    0.095</td> <td>    6.069</td> <td> 0.000</td> <td>    0.389</td> <td>    0.760</td>\n",
              "</tr>\n",
              "<tr>\n",
              "  <th>sigma2</th> <td>    1.2368</td> <td>    0.210</td> <td>    5.881</td> <td> 0.000</td> <td>    0.825</td> <td>    1.649</td>\n",
              "</tr>\n",
              "</table>\n",
              "<table class=\"simpletable\">\n",
              "<tr>\n",
              "  <th>Ljung-Box (L1) (Q):</th>     <td>33.54</td> <th>  Jarque-Bera (JB):  </th> <td>0.56</td>\n",
              "</tr>\n",
              "<tr>\n",
              "  <th>Prob(Q):</th>                <td>0.00</td>  <th>  Prob(JB):          </th> <td>0.76</td>\n",
              "</tr>\n",
              "<tr>\n",
              "  <th>Heteroskedasticity (H):</th> <td>0.69</td>  <th>  Skew:              </th> <td>0.15</td>\n",
              "</tr>\n",
              "<tr>\n",
              "  <th>Prob(H) (two-sided):</th>    <td>0.30</td>  <th>  Kurtosis:          </th> <td>3.20</td>\n",
              "</tr>\n",
              "</table><br/><br/>Warnings:<br/>[1] Covariance matrix calculated using the outer product of gradients (complex-step)."
            ],
            "text/latex": "\\begin{center}\n\\begin{tabular}{lclc}\n\\toprule\n\\textbf{Dep. Variable:}          &        y         & \\textbf{  No. Observations:  } &     99      \\\\\n\\textbf{Model:}                  &  ARIMA(0, 1, 2)  & \\textbf{  Log Likelihood     } &  -150.067   \\\\\n\\textbf{Date:}                   & Mon, 15 Apr 2024 & \\textbf{  AIC                } &  306.134    \\\\\n\\textbf{Time:}                   &     09:09:54     & \\textbf{  BIC                } &  313.889    \\\\\n\\textbf{Sample:}                 &        0         & \\textbf{  HQIC               } &  309.271    \\\\\n\\textbf{}                        &       - 99       & \\textbf{                     } &             \\\\\n\\textbf{Covariance Type:}        &       opg        & \\textbf{                     } &             \\\\\n\\bottomrule\n\\end{tabular}\n\\begin{tabular}{lcccccc}\n                & \\textbf{coef} & \\textbf{std err} & \\textbf{z} & \\textbf{P$> |$z$|$} & \\textbf{[0.025} & \\textbf{0.975]}  \\\\\n\\midrule\n\\textbf{ma.L1}  &       0.8972  &        0.092     &     9.718  &         0.000        &        0.716    &        1.078     \\\\\n\\textbf{ma.L2}  &       0.5744  &        0.095     &     6.069  &         0.000        &        0.389    &        0.760     \\\\\n\\textbf{sigma2} &       1.2368  &        0.210     &     5.881  &         0.000        &        0.825    &        1.649     \\\\\n\\bottomrule\n\\end{tabular}\n\\begin{tabular}{lclc}\n\\textbf{Ljung-Box (L1) (Q):}     & 33.54 & \\textbf{  Jarque-Bera (JB):  } & 0.56  \\\\\n\\textbf{Prob(Q):}                &  0.00 & \\textbf{  Prob(JB):          } & 0.76  \\\\\n\\textbf{Heteroskedasticity (H):} &  0.69 & \\textbf{  Skew:              } & 0.15  \\\\\n\\textbf{Prob(H) (two-sided):}    &  0.30 & \\textbf{  Kurtosis:          } & 3.20  \\\\\n\\bottomrule\n\\end{tabular}\n%\\caption{SARIMAX Results}\n\\end{center}\n\nWarnings: \\newline\n [1] Covariance matrix calculated using the outer product of gradients (complex-step)."
          },
          "metadata": {},
          "execution_count": 19
        }
      ]
    },
    {
      "cell_type": "code",
      "source": [],
      "metadata": {
        "id": "NCNwyG_WBR4s"
      },
      "execution_count": null,
      "outputs": []
    }
  ]
}